import numpy as np
import matplotlib.pyplot as plt

from smt.sampling_methods import LHS

## CHOOSE MODEL TYPE AND PARAMETER BOUNDS ## 
#exp const fit - mRNA deg, mCherry deg
#xlimits = np.array(([0.00054,0.00056],[0.00009167,0.000128]))

#For 4 state
#d1, k1, d2, k2, Kd, n, k3, d3, k4, d4
#xlimits = np.array([[0.015,0.02],[0.0001, 10],[0.0001, 10],[0.0001, 10],[0.1,10000],[0.5,4],[0.0001, 10],[0.0001,10],[0.0001, 10],[0.0021,0.835]])
## 4 state fine tune
#xlimits = np.array([[0.019,0.02],[0.2, 0.25],[0.025, 0.04],[0.0003, 0.00045],[100,190],[1.25,1.5],[0.0003, 0.00045],[0.02,0.035],[0.015, 0.02],[0.0021,0.835]])

#For 2 state
#d1, k1, d2, k2, Kd, n
#xlimits = np.array([[0.015,0.02],[0.0001,10],[0.0001,10],[0.0001,10],[0.1,10000],[0.5,4]])


#For 3 state
#d1, k1, d2, k2, Kd, n, k3
xlimits = np.array([[0.015,0.02],[0.0001, 10],[0.0001, 10],[0.0001, 10],[0.1,10000],[0.5,4],[0.0001, 10]])
## 3 state fine tune
#xlimits = np.array([[0.015,0.0155],[0.25, 0.35],[2, 2.5],[0.0001, 0.00015],[120,150],[1.5,2],[0.04, 0.05]])

## LOG TRANSFORM TO CAPTURE FULL DISTRIBUTION ## 
xlimits = np.log(xlimits)


## SAMPLE ##
sampling = LHS(xlimits=xlimits)

num = 4000
x = sampling(num)
x = np.exp(x)


## CHOOSE PARAMETERS TO OUTPUT ##
d1 = x[:,0]
k1 = x[:,1]
d2 = x[:,2]
k2 = x[:,3]
Kd = x[:,4]
n = x[:,5]
k3 = x[:,6]
#d3 = x[:,7]
#k4 = x[:,8]
#d4 = x[:,9]
#k5 = x[:,10]
#d5 = x[:,11]
#k6 = x[:,12]

## CALCULATE HILL FUNCTION ## 
K1 = k1*60**n/(Kd**n+60**n);
K2 = k1*600**n/(Kd**n+600**n);

## EXPORT TO SPREADSHEET ##
import openpyxl
wb = openpyxl.Workbook()
sheet = wb.active

sheet.cell(row=1, column=1).value='d1'
sheet.cell(row=1, column=2).value='k1'
sheet.cell(row=1, column=3).value='d2'
sheet.cell(row=1, column=4).value='k2'
sheet.cell(row=1, column=5).value='Kd'
sheet.cell(row=1, column=6).value='n'
sheet.cell(row=1, column=7).value='k3'
#sheet.cell(row=1, column=8).value='d3'
#sheet.cell(row=1, column=9).value='k4'
#sheet.cell(row=1, column=10).value='d4'
sheet.cell(row=1, column=11).value='K1'
sheet.cell(row=1, column=12).value='K2'
#sheet.cell(row=1, column=11).value='k5'
#sheet.cell(row=1, column=12).value='d5'
#sheet.cell(row=1, column=13).value='k6'
for i in range(len(x)):
    sheet.cell(row=i+2, column=1).value=d1[i]
    sheet.cell(row=i+2, column=2).value=k1[i]
    sheet.cell(row=i+2, column=3).value=d2[i]
    sheet.cell(row=i+2, column=4).value=k2[i]
    sheet.cell(row=i+2, column=5).value=Kd[i]
    sheet.cell(row=i+2, column=6).value=n[i]
    sheet.cell(row=i+2, column=7).value=k3[i]
    #sheet.cell(row=i+2, column=8).value=d3[i]
    #sheet.cell(row=i+2, column=9).value=k4[i]
    #sheet.cell(row=i+2, column=10).value=d4[i]
    sheet.cell(row=i+2, column=11).value=K1[i]
    sheet.cell(row=i+2, column=12).value=K2[i]
    #sheet.cell(row=i+2, column=11).value=k5[i]
    #sheet.cell(row=i+2, column=12).value=d5[i]
    #sheet.cell(row=i+2, column=13).value=k6[i]
               
wb.save(filename='LHSParameters.csv')
