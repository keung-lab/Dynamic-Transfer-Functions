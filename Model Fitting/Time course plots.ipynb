import numpy as np
import pandas as pd
from sklearn.model_selection import StratifiedKFold
from scipy.integrate import odeint
import matplotlib.pyplot as plt
from matplotlib.backends.backend_pdf import PdfPages

## TIME FOR EXPERIMENT IN INDEXED SECONDS ##
t = np.linspace(0,50395, num=10080)

## IMPORT LIGHT PATTERNS ##
lightdata = np.transpose(np.delete(np.genfromtxt('promoterconclight.csv', delimiter=','),0,0))
arrayvalues = np.asarray([])

## SET UP ODES ##
def func(t):
    ## INITIAL CONDITIONS ##
    z0 = [1,0,0,0,0,0]
    #mCherry2 = np.empty((len(lightdata[:,0]), len(t)))
    out =  np.empty((len(lightdata[:,0]),len(t),6))
   
    ## LOOP THROUGH LIGHT CONDITIONS ##
    for i in range(len(lightdata[:,0])):
        def I(t):
            tindex = t/5
            if tindex > 10079:
                tindex = 10079
                #print(lightdata[i][int(tindex)])
            return lightdata[i][int(tindex)]
  
        def model(z,t):
            ## DEFINE PARAMETERS ##
            d1 = 0.019905;
            k1 = 0.08299;
            d2 = 0.116948;
            k2 = 0.001023;
            Kd = 90.41;
            n = 0.964487;
            k3 = 0.000432;
            d3 = 0.000544;
            k4 = 1.25;
            d4 = 0.0000924;
            k5 = 0.00144; 
    
            ## INDEX ODES ##
            Pu = z[0]
            Pb = z[1]
            Pa = z[2]
            mRNA = z[3]
            mCherry1 = z[4]
            mCherry2 = z[5]

            ## EQUATIONS ##
            dPudt = d1*Pb - k1*I(t)**n/(Kd**n+I(t)**n)*Pu
            dPbdt = k1*I(t)**n/(Kd**n+I(t)**n)*Pu + d2*Pa - d1*Pb - k2*Pb
            dPadt = k2*Pb - d2*Pa
            dmRNAdt = k3*Pa - d3*mRNA
            dmCherry1dt = k4*mRNA-(d4 + k5)*mCherry1
            dmCherry2dt = k5*mCherry1-d4*mCherry2
            return [dPudt,dPbdt,dPadt,dmRNAdt,dmCherry1dt,dmCherry2dt]
        
        ## SOLVE ODES ##
        z = odeint(model,z0,t,hmax=1)
        #mCherry2[i] = z[:,5]
        ## RETURN TIME COURSE DATA ##
        out[i] = z
    return out

## UNPACK TIME COURSE DATA ##
model1 = np.asarray(func(t))
mCherry2 = model1[:,:,5]
Pu = model1[:,:,0]
Pb = model1[:,:,1]
Pa = model1[:,:,2]
mRNA = model1[:,:,3]

#total = Pu+Pb+Pa+Pi
#print(total)

## LOOP THROUGH LIGHT CONDITIONS ##
for i in range(len(lightdata[:,0])):
    ## PRINT ENDPOINT VALUE ##
    last = Pa[i]
    ##total = Pi[i]+Pu[i]+Pb[i]+Pa[i]
    #print(last[-1])
    ## PRINT MAXIMUM VALUE ##
    tmax = t[np.argmax(Pa[i])]
    ymax = Pu[i].max()
    text = "t={:.3f}, y={:.3f}".format(tmax,ymax)
    print(ymax)

## EXPORT TIME COURSE DATA TO SPREADSHEET ##
import csv
pp = PdfPages('multipage.pdf')

## LOOP THROUGH LIGHT CONDITIONS ##
for i in range(len(lightdata[:,0])):
    mCherry2 = model1[:,:,5]
    #with open('dataout.csv','w') as csvfile:
        #csvwriter=csv.writer(csvfile)
        #for row in mCherry2:
            #csvwriter.writerow(row)
    Pu = model1[:,:,0]
    #print(Pu)
#    with open('Puout.csv','w') as csvfile:
#       csvwriter=csv.writer(csvfile)
#        for row in Pu:
#            csvwriter.writerow(row)
    Pb = model1[:,:,1]
#    with open('Pbout.csv','w') as csvfile:
#        csvwriter=csv.writer(csvfile)
#        for row in Pb:
#            csvwriter.writerow(row)
    Pa = model1[:,:,2]
#    with open('Paout.csv','w') as csvfile:
#        csvwriter=csv.writer(csvfile)
#        for row in Pa:
#            csvwriter.writerow(row)
    #Pa = model1[:,:,3]
    #with open('Paout.csv','w') as csvfile:
        #csvwriter=csv.writer(csvfile)
        #for row in Pa:
            #csvwriter.writerow(row)
    mRNA = model1[:,:,3]
#    with open('mRNAout.csv','w') as csvfile:
#        csvwriter=csv.writer(csvfile)
#        for row in mRNA:
#            csvwriter.writerow(row)
    mCherry1=model1[:,:,4]
    
    ## PLOT ##
    #t = np.linspace(0,50395, num=10080)
    #plt.plot(t,lightdata[i])
    #plt.plot(t,U[i])
    plt.plot(t,mCherry2[i])
    #plt.plot(t,Pb[i])
    #plt.plot(t,Pa[i])
    #plt.legend(['U','Pu','Pb','Pa'])
    #plt.plot(t,mCherry2[i])

    plt.xlabel('Time [s]')
    plt.ylabel('Promoter State Occupancy')
    plt. suptitle('condition '+str(i+1),fontsize = 14)
    #plt.ylim((0,1))
    #plt.xlim((0,3600))
    
pp.close()
