import numpy as np
import pandas as pd
from sklearn.model_selection import StratifiedKFold
from scipy.integrate import odeint
import matplotlib.pyplot as plt
from matplotlib.backends.backend_pdf import PdfPages

## SET UP STRATIFIED K FOLD CROSS VALIDATION ##
## IMPORT RAW DATA BY CLASS ##
rn = pd.read_csv('OutputClass.csv')
#print(sum(rn['class'])/len(rn['class']))
## CREATE FOLDS ## 
skf = StratifiedKFold(n_splits=4, shuffle=True, random_state=100)
target = rn.loc[:,'class']

## PULL CORRECT COLUMNS FOR EACH TESTING/TRAINING SET ##
trainendpts = []
testendpts = []                
fold_no = 1
for train_index, test_index in skf.split(rn, target):
    train = rn.loc[train_index,:]
    test = rn.loc[test_index,:]
    print('Fold',str(fold_no),'class avg:',sum(train['class'])/len(train['class']))
    traincols=(np.take(rn['output'],train_index))
    trendpts = np.asarray(traincols)
    trainendpts.append(trendpts)
    testcols = (np.take(rn['output'],test_index))
    teendpts = np.array(testcols)
    testendpts.append(teendpts)
    fold_no += 1

print(trainendpts[0])
print(testendpts[0])

## IMPORT DATA FOR TRAINING/TESTING SET ##
rawdata = trainendpts[0]
#rawdata = testendpts[3]
print(rawdata)
newdata = list(rawdata.flatten())

## IMPORT PARAMETERS FROM LHS ##
parameters = (np.delete(np.genfromtxt('Params.csv', delimiter=','),0,0))
print(parameters)

## SET UP TIME FOR EXPERIMENT IN INDEXED SECONDS ## 
t = np.linspace(0,50395, num=10080)
print(t)

## SET UP ODES ##
def func(t):
    ## INITIAL CONDITIONS ##
    z0 = [1,0,0,0,0,0]
    trainlight = []
    testlight = []
    ## PULL CORRECT LIGHT COLUMNS FOR TRAINING/TESTING SET ## 
    fold_no = 1
    for train_index, test_index in skf.split(rn, target):
        train = rn.loc[train_index,:]
        test = rn.loc[test_index,:]
        #print('Fold',str(fold_no),'class avg:',sum(test['class'])/len(test['class']))
        traincols=(np.take(rn['cond'],train_index))
        trendpts = np.asarray(traincols)
        testcols = (np.take(rn['cond'],test_index))
        teendpts = np.array(testcols)
        lightdata = np.transpose(np.delete(np.genfromtxt('AllLightnosmooth.csv', delimiter=','),0,0))
        trlight = np.array(lightdata[[traincols]])
        telight = np.array(lightdata[[testcols]])
        trainlight.append(trlight)
        testlight.append(telight)
        fold_no += 1
    
    #lightdata = testlight[3]
    lightdata = trainlight[0]
    arrayvalues = np.asarray([])
    end = np.zeros((len(parameters[:,0]),len(lightdata[:,0])))
    
    ## LOOP THROUGH LIGHT COLUMNS ##
    for i in range(len(lightdata[:,0])):
    #for i in range(20):
        def I(t):
            tindex = t/5
            if tindex > 10079:
                tindex = 10079
            return lightdata[i][int(tindex)]
        ## LOOP THROUGH PARAMETERS ##
        for j in range(len(parameters[:,0])):
                def model(z,t):
                    p1 = parameters[:,0];
                    p2 = parameters[:,1];
                    p3 = parameters[:,2];
                    p4 = parameters[:,3];
                    p5 = parameters[:,4];
                    p6 = parameters[:,5];
                    p7 = parameters[:,6];
                    p8 = parameters[:,7];
                    
                    d1 = p1[j]
                    k1 = p2[j]
                    d2 = p3[j]
                    k2 = p4[j]
                    Kd = p5[j]
                    n = p6[j]
                    k3 = p7[j]
                    d3 = p8[j]
  
                    ## OR ENTER PARAMETERS DIRECTLY ##
                    d1 = 0.018584;
                    k1 = 0.370823;
                    d2 = 0.025167;
                    k2 = 0.000677;
                    Kd = 627.3357;
                    n = 0.778895;
                    k3 = 0.000128;
                    d3 = 0.000544;
                    k4 = 1.25;
                    d4 = 0.0000924;
                    k5 = 0.00144; 
  
                    ## INDEX ODES ##
                    Pu = z[0]
                    Pb = z[1]
                    Pa = z[2]
                    mRNA = z[3]
                    mCherry1 = z[4]
                    mCherry2 = z[5]
                    ## EQUATIONS ##
                    dPudt = d1*Pb - k1*I(t)**n/(Kd**n+I(t)**n)*Pu
                    dPbdt = k1*I(t)**n/(Kd**n+I(t)**n)*Pu + d2*Pa - d1*Pb - k2*Pb
                    dPadt = k2*Pb - d2*Pa
                    dmRNAdt = k3*Pa - d3*mRNA
                    dmCherry1dt = k4*mRNA-(d4 + k5)*mCherry1
                    dmCherry2dt = k5*mCherry1-d4*mCherry2
                    return [dPudt,dPbdt,dPadt,dmRNAdt,dmCherry1dt,dmCherry2dt]  

                ## SOLVE ODES ##
                z = odeint(model,z0,t, hmax=1)
                mCherry2 = z[:,5]
                ## RETURN ENDPOINTS ##
                end[j,i] = mCherry2[-1]

    return end

## CALCULATE R2 FOR EACH PARAMETER SET ##
model1 = np.asarray(func(t))
print(model1)
ydata = np.asarray(newdata)
#print('end = ', model1);
print(ydata)

#for j in range(2):
for j in range(len(parameters[:,0])):
    sub = (ydata-model1[j])**2
    ssr = np.sum(sub)
    #print(ssr)
    sst = np.sum((ydata - np.mean(ydata))**2)
    #print(sst)
    R2 = 1 - (ssr/sst)
    print('R2'+str(j+1), '=',R2)

## PLOT ENDPOINTS ##
pp = PdfPages('multipage.pdf')
traincond = []
testcond = []

## PULL CONDITION NUMBER FOR TRAINING/TESTING SET ##
for train_index, test_index in skf.split(rn, target):
    train = rn.loc[train_index,:]
    test = rn.loc[test_index,:]
    traincols=(np.take(rn['cond'],train_index))
    trcond = np.asarray(traincols)
    traincond.append(trcond)
    testcols = (np.take(rn['cond'],test_index))
    tecond = np.array(testcols)
    testcond.append(tecond)
    fold_no += 1

condition = testcond[3]
#condition = traincond[3]

## PLOT ENDPOINTS FOR EACH CONDITION FOR TRAINING/TESTING SET FOR EACH PARAMETER SET ##
for j in range(len(parameters[:,0])):
    plt.plot(condition,model1[j],'*', label = 'model')
    plt.plot(condition,rawdata,'.',label = 'data')
    plt. suptitle('Test set',fontsize = 14)
    plt.ylabel('Fluoresence [a.u.]')
    plt.xlabel('Condition')
    plt.legend()
    pp.savefig()
    plt.show()
pp.close()
